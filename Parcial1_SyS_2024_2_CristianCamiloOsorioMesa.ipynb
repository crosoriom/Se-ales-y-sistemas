{
  "nbformat": 4,
  "nbformat_minor": 0,
  "metadata": {
    "colab": {
      "private_outputs": true,
      "provenance": [],
      "include_colab_link": true
    },
    "kernelspec": {
      "name": "python3",
      "display_name": "Python 3"
    },
    "language_info": {
      "name": "python"
    }
  },
  "cells": [
    {
      "cell_type": "markdown",
      "metadata": {
        "id": "view-in-github",
        "colab_type": "text"
      },
      "source": [
        "<a href=\"https://colab.research.google.com/github/crosoriom/Senales-y-sistemas/blob/main/Parcial1_SyS_2024_2_CristianCamiloOsorioMesa.ipynb\" target=\"_parent\"><img src=\"https://colab.research.google.com/assets/colab-badge.svg\" alt=\"Open In Colab\"/></a>"
      ]
    },
    {
      "cell_type": "markdown",
      "source": [
        "# Parcial 1: Señales y Sistemas 2024-II\n",
        "\n",
        " ## Profesor: Andrés Marino Álvarez Meza, Ph.D.\n",
        "\n",
        "\n",
        "## Departamento de Ingeniería Eléctrica, Electrónica, y Computación\n",
        "## Universidad Nacional de Colombia - sede Manizales"
      ],
      "metadata": {
        "id": "1fWMHXCqNtQw"
      }
    },
    {
      "cell_type": "markdown",
      "source": [
        "# Instrucciones\n",
        "\n",
        "-- Para recibir el crédito total, sus respuestas deben estar justificadas de manera clara, detallada y concreta, mostrando los procedimientos y razonamientos paso a paso.\n",
        "\n",
        "-- Está permitido el uso de herramientas de inteligencia artificial (IA). Si las utiliza, por favor declare explícitamente cómo fueron empleadas en la resolución de cada pregunta. Incluya los prompts (consultas) y las iteraciones realizadas con las IA durante el desarrollo del parcial.\n",
        "\n",
        "-- La entrega del parcial debe realizarse antes de las 23:59 del 5 de diciembre de 2024 al correo electrónico amalvarezme@unal.edu.co mediante un enlace de GitHub.\n",
        "\n",
        "-- Los códigos deben estar debidamente comentados en las celdas correspondientes y explicados en celdas de texto (markdown). Los códigos que no incluyan comentarios ni discusiones no serán considerados en la evaluación final."
      ],
      "metadata": {
        "id": "15xl7tLEP6YA"
      }
    },
    {
      "cell_type": "markdown",
      "source": [
        "# Pregunta 1 (valor 2.5 puntos)\n",
        "\n",
        "Cuál es la señal obtenida en tiempo discreto al utilizar un conversor análogo digital de 5 bits con frecuencia de muestreo de $5kHz$, entrada análoga de -3.3 a 3.3 [v], aplicado a la señal continua $x(t) = 0.3 \\cos(1000\\pi t-\\pi/4) +\n",
        "0.6 \\sin(2000\\pi t) + 0.1 \\cos(11000\\pi t-\\pi)$?. Realizar la simulación del proceso de digitalización incluyendo al menos 3 ciclos de la señal $x(t)$.\n",
        "\n",
        "En caso de que la digitalización no sea apropiada, diseñe e implemente un conversor adecuado para la señal estudiada. El convesor debe permitir configurar la cantidad de bits, rango de la entrada análoga y la frecuencia de muestreo, indicándole al usuario si dicha frecuencia es apropiada o no, y graficar la señal continua, discreta y digital."
      ],
      "metadata": {
        "id": "jmI0zzVMRLNx"
      }
    },
    {
      "cell_type": "markdown",
      "source": [
        "\\begin{equation}\n",
        "    x(t) = 0.3 \\cos\\left(1000\\pi t - \\frac{\\pi}{4}\\right) + 0.6 \\sin(2000\\pi t) + 0.1 \\cos(11000\\pi t - \\pi)\n",
        "\\end{equation}\n",
        "\n",
        "Para una señal cuasiperiodica, se tiene que su periodo $T$ será de:\n",
        "\n",
        "$$ T = \\frac{2\\pi}{\\omega} \\quad ; \\quad f = \\frac{1}{T} \\quad ; \\quad f = \\frac{\\omega}{2\\pi} $$\n",
        "\n",
        "\\begin{align*}\n",
        "T_1 &= \\frac{1}{f_1} = \\frac{1}{1000\\pi/(2\\pi)} = \\frac{1}{500} = 0.002 \\\\\n",
        "T_2 &= \\frac{1}{f_2} = \\frac{1}{2000\\pi/(2\\pi)} = \\frac{1}{1000} = 0.001 \\\\\n",
        "T_3 &= \\frac{1}{f_3} = \\frac{1}{11000\\pi/(2\\pi)} = \\frac{1}{5500} = 0.00018181818...\n",
        "\\end{align*}\n",
        "\n",
        "\\begin{equation}\n",
        "T = \\text{mcm}(T_1, T_2, T_3) = 0.002 \\\\\n",
        "f = \\text{mcd}(f_1, f_2, f_3) = 500 \\\\\n",
        "T = \\frac{1}{f} = \\frac{1}{500} = 0.002\n",
        "\\end{equation}\n"
      ],
      "metadata": {
        "id": "2HyPZ36tsrXH"
      }
    },
    {
      "cell_type": "code",
      "source": [
        "import numpy as np\n",
        "import sympy as sp\n",
        "import matplotlib.pyplot as plt\n",
        "from scipy.spatial.distance import cdist\n",
        "\n",
        "#Consstantes de la función:\n",
        "A1 = 0.3\n",
        "A2 = 0.6\n",
        "A3 = 0.1\n",
        "w1 = 1000 * np.pi\n",
        "w2 = 2000 * np.pi\n",
        "w3 = 11000 * np.pi\n",
        "phi1 = -np.pi/4\n",
        "phi2 = 0\n",
        "phi3 = -np.pi\n",
        "\n",
        "#Periodo y frecuencia:\n",
        "T1 = 2 * np.pi / w1\n",
        "T2 = 2 * np.pi / w2\n",
        "T3 = 2 * np.pi / w3\n",
        "f1 = 1 / T1\n",
        "f2 = 1 / T2\n",
        "f3 = 1 / T3\n",
        "\n",
        "f = 500\n",
        "T = 1 / f\n",
        "w = 2 * np.pi * f\n",
        "\n",
        "#Por teorema de Nyquist Fs>= 2f, 5000 es 10 veces mayor a 500\n",
        "Fs = 5000\n",
        "\n",
        "#Función continua y analógica\n",
        "t = sp.symbols('t')\n",
        "x = A1 * sp.cos(w1 * t + phi1) + A2 * sp.sin(w2 * t + phi2) + A3 * sp.cos(w3 * t + phi3)\n",
        "sp.plot(x, (t, -2 * T, 2 * T), title = \"x(t) análogica y continua\")\n",
        "\n",
        "#Función analógica discretizada\n",
        "plt.figure(figsize=(20, 4))\n",
        "for i in range(1, 6):\n",
        "    tn = np.arange(-2 * T, 2 * T, 1/(i * Fs))\n",
        "    xn = A1 * np.cos(w1 * tn + phi1) + A2 * np.sin(w2 * tn + phi2) + A3 * np.cos(w3 * tn + phi3)\n",
        "\n",
        "    plt.subplot(1,5,i)\n",
        "    plt.plot(tn, xn)\n",
        "    plt.xlabel('Tiempo (s)')\n",
        "    plt.ylabel('Amplitud')\n",
        "    plt.title(f'Fs = {(i * Fs)}')\n",
        "    plt.grid(True)\n",
        "plt.show()"
      ],
      "metadata": {
        "id": "BPnYlAvFsqAd"
      },
      "execution_count": null,
      "outputs": []
    },
    {
      "cell_type": "markdown",
      "source": [
        "Aunque el teorema de Nyquist se cumple para frecuencias mayores o iguales a $1kHz$, con la frecuencia de muestreo del ADC aparece cierto nivel de aliasing, puede que esto sea deseable ya que el ruido puede verse filtrado. Si esto no se desea, y lo que se quiere es ver la señal tal cual se recibe de forma analógica, se debe usar una mayor frecuencia. Se sugiere mayor a $15kHz$."
      ],
      "metadata": {
        "id": "F7FjqnEe9xjh"
      }
    },
    {
      "cell_type": "code",
      "source": [
        "#Se usará la frecuencia de muestreo de 25kHz.\n",
        "#Función para aplicar cero y pendiente\n",
        "def GainAndOffset(x, y_min, y_max):\n",
        "    x_min = min(x)\n",
        "    x_max = max(x)\n",
        "    gain = (y_max - y_min) / (x_max - x_min)\n",
        "    offset = y_min - gain * x_min\n",
        "    y = gain * x + offset\n",
        "    return y\n",
        "\n",
        "#Función para cuantizar la amplitud\n",
        "def Quantizer(y, v) :\n",
        "    N = v.shape[0]\n",
        "    d = cdist(y.reshape(-1,1),v.reshape(-1,1))\n",
        "    n = np.argmin(d)\n",
        "    return v[n]\n",
        "\n",
        "#Primero se atenúa la señal reduciendo su ganancia y calculando un offset\n",
        "x_max = 3.3\n",
        "x_min = -3.3\n",
        "xn_r = GainAndOffset(xn, x_min, x_max)\n",
        "\n",
        "#Luego se cuantiza la amplitud de la señal para volverla completamente digital.\n",
        "bits = 5\n",
        "v = np.linspace(x_min, x_max, 2**bits)\n",
        "xn_c = np.zeros(xn_r.shape)\n",
        "for i in range(xn_r.shape[0]):\n",
        "    xn_c[i] = Quantizer(xn_r[i], v)\n",
        "\n",
        "plt.figure(figsize=(10, 5))\n",
        "plt.subplot(1,2,1)\n",
        "plt.plot(tn, xn_r)\n",
        "plt.xlabel('Tiempo (s)')\n",
        "plt.ylabel('Amplitud')\n",
        "plt.title('Señal analógica discretizada y regularizada')\n",
        "plt.grid(True)\n",
        "\n",
        "plt.subplot(1,2,2)\n",
        "#for value in v:\n",
        "#    plt.plot(tn, value * np.ones(len(tn)))\n",
        "plt.plot(tn, xn_c)\n",
        "plt.xlabel('Tiempo (s)')\n",
        "plt.ylabel('Amplitud')\n",
        "plt.title('Señal digitalizada')\n",
        "plt.grid(True)\n",
        "plt.show()\n"
      ],
      "metadata": {
        "id": "a1kW1IyF-wiY"
      },
      "execution_count": null,
      "outputs": []
    },
    {
      "cell_type": "markdown",
      "source": [
        "Puede observarse que tras la digitalización completa de la señal, apenas se notan ligeros cambios en la señal. En la discretización se observa que los cambios en las pendientes son más bruscos, apareciendo picos y no curvas en los máximos y mínimos de la señal. En la cuantización hay cambios en los mínimos, algunos puntos mínimos se notan ligeramente desplazados."
      ],
      "metadata": {
        "id": "_N4_upMIIzXI"
      }
    },
    {
      "cell_type": "markdown",
      "source": [
        "Se usó la IA para escribir la demostración de la periodicidad de la función en TeX. Y resolver algunos problemas con los paquetes usados en el código.\n",
        "**Olvidé los prompts**"
      ],
      "metadata": {
        "id": "VXyaGPnkxZep"
      }
    },
    {
      "cell_type": "markdown",
      "source": [
        "# Pregunta 2 (valor 2.5 puntos)\n",
        "\n",
        "Se dispone de un sistema modelado como una \"caja negra\" (ver celdas de código). Su tarea es analizar y comprobar mediante simulaciones si el sistema cumple con las propiedades de linealidad e invariancia en el tiempo. En caso de que el sistema sea lineal e invariante con el tiempo, determine su respuesta al impulso y utilice esta respuesta para calcular la salida del sistema ante la siguiente señal:\n",
        "\n",
        "$x[n] = \\sin[100 \\pi n ] + \\sin[600 \\pi n]$"
      ],
      "metadata": {
        "id": "5Za-WbLpSele"
      }
    },
    {
      "cell_type": "code",
      "source": [
        "# cargar sistema\n",
        "FILEID = \"1J9rhh0wWHZSBd8XmWGt1ZpCsMDuoUFmm\"\n",
        "!wget --load-cookies /tmp/cookies.txt \"https://docs.google.com/uc?export=download&confirm=$(wget --quiet --save-cookies /tmp/cookies.txt --keep-session-cookies --no-check-certificate 'https://docs.google.com/uc?export=download&id='$FILEID -O- | sed -rn 's/.*confirm=([0-9A-Za-z_]+).*/\\1\\n/p')&id=\"$FILEID -O P1_model.zip && rm -rf /tmp/cookies.txt\n",
        "!unzip -o P1_model.zip\n",
        "!dir"
      ],
      "metadata": {
        "id": "6yJMMFK6zo5K"
      },
      "execution_count": null,
      "outputs": []
    },
    {
      "cell_type": "code",
      "source": [
        "import numpy as np\n",
        "import matplotlib.pyplot as plt\n",
        "import joblib\n",
        "from P1_model import system_\n",
        "from scipy.signal import firwin, freqz, lfilter, filtfilt\n",
        "\n",
        "#sistema pregunta 2\n",
        "my_system = system_.My_System()\n",
        "my_system.create_()\n",
        "fs = my_system.fs #frecuencia de muestreo\n",
        "t = np.arange(-0.01, 0.02, 1/fs)  # Tiempo\n",
        "signal_u = np.heaviside(t,1) # función heaviside\n",
        "y_u = my_system.predict(signal_u)\n",
        "\n",
        "\n",
        "# Visualización de las señales\n",
        "fig, axs = plt.subplots(2,1)\n",
        "axs[0].stem(t, signal_u, label='Señal de entrada')\n",
        "axs[0].set_xlabel('Tiempo (s)')\n",
        "axs[0].set_ylabel('Amplitud')\n",
        "axs[0].legend()\n",
        "axs[0].grid()\n",
        "axs[1].stem(t,y_u, label='Señal salida')\n",
        "axs[1].set_xlabel('Tiempo (s)')\n",
        "axs[1].set_ylabel('Amplitud')\n",
        "axs[1].legend()\n",
        "axs[1].grid()\n",
        "plt.tight_layout()\n",
        "plt.show()"
      ],
      "metadata": {
        "id": "nUX7Vr1fTUYW"
      },
      "execution_count": null,
      "outputs": []
    },
    {
      "cell_type": "markdown",
      "source": [
        "Para que un sistema sea lineal e invariante en el tiempo(SLIT) se deben cumplir 2 condiciones:\n",
        "\n",
        "1. $$T\\{a_{1}x_{1}\\ + a_{2}x_{2}\\} = a_{1}y_{1} + a_{2}y_{2}$$\n",
        "2. $$T\\{x[n-k]\\} = y[n-k]$$\n"
      ],
      "metadata": {
        "id": "wET7qgtcTbY0"
      }
    },
    {
      "cell_type": "code",
      "execution_count": null,
      "metadata": {
        "id": "DSfPWCpPNJa4"
      },
      "outputs": [],
      "source": [
        "y_ax = my_system.predict((signal_u) + my_system.predict(5 * signal_u)) #Se suman señales para comprobar superposición\n",
        "signal_k = np.heaviside(t - 0.01,1) #Se traslada la entrada para ver si traslada la salida\n",
        "y_k = my_system.predict(signal_k)\n",
        "\n",
        "fig, axs = plt.subplots(2,1)\n",
        "axs[0].stem(t, y_ax, label='Propiedad de superposición')\n",
        "axs[0].set_xlabel('Tiempo (s)')\n",
        "axs[0].set_ylabel('Amplitud')\n",
        "axs[0].legend()\n",
        "axs[0].grid()\n",
        "axs[1].stem(t,y_k, label='Propiedad de traslación')\n",
        "axs[1].set_xlabel('Tiempo (s)')\n",
        "axs[1].set_ylabel('Amplitud')\n",
        "axs[1].legend()\n",
        "axs[1].grid()\n",
        "plt.tight_layout()\n",
        "plt.show()"
      ]
    },
    {
      "cell_type": "markdown",
      "source": [
        "Comprobadas las propiedades, se asume que el sistema es un SLIT. Ahora se calcula su respuesta al impulso $h(t)$."
      ],
      "metadata": {
        "id": "FZlivGn-Y7qW"
      }
    },
    {
      "cell_type": "code",
      "source": [
        "h = np.gradient(signal_u, t) #señal impulso\n",
        "y_h = my_system.predict(h)\n",
        "\n",
        "fig, axs = plt.subplots(2,1)\n",
        "axs[0].stem(t, h, label='función impulso')\n",
        "axs[0].set_xlabel('Tiempo (s)')\n",
        "axs[0].set_ylabel('Amplitud')\n",
        "axs[0].legend()\n",
        "axs[0].grid()\n",
        "axs[1].stem(t,y_h, label='Respuesta impulso')\n",
        "axs[1].set_xlabel('Tiempo (s)')\n",
        "axs[1].set_ylabel('Amplitud')\n",
        "axs[1].legend()\n",
        "axs[1].grid()\n",
        "plt.tight_layout()\n",
        "plt.show()"
      ],
      "metadata": {
        "id": "CvhTBb2lY7SR"
      },
      "execution_count": null,
      "outputs": []
    },
    {
      "cell_type": "markdown",
      "source": [
        "Finalmente se hace la convolución con $x(t)$ para hallar la respuesta del sistema.\n",
        "\n",
        "$x[n] = \\sin[100 \\pi n ] + \\sin[600 \\pi n]$"
      ],
      "metadata": {
        "id": "PWZfOl7Nb4NK"
      }
    },
    {
      "cell_type": "code",
      "source": [
        "x = np.sin(100 * np.pi * t) + np.sin(600 * np.pi * t)\n",
        "t_n = np.arange(-0.01, 0.049, 1/fs)  # Nuevo vector de tiempo\n",
        "y = np.convolve(x.reshape(-1),h.reshape(-1))\n",
        "\n",
        "plt.stem(t_n, y, label='Respuesta del sistema')\n",
        "plt.xlabel('Tiempo (s)')\n",
        "plt.ylabel('Amplitud')\n",
        "plt.legend()\n",
        "plt.grid()\n",
        "plt"
      ],
      "metadata": {
        "id": "r7N0JrR1b1za"
      },
      "execution_count": null,
      "outputs": []
    },
    {
      "cell_type": "markdown",
      "source": [
        "Para este punto pedí asesoría en Gemini para solucionar algunas dudas que tuve con numpy. Calculé un nuevo vector de tiempo para la salida del sistema debido a que la convolución arroja un vector de la suma de las longitudes de las entradas."
      ],
      "metadata": {
        "id": "Za-KRzGdjPPi"
      }
    },
    {
      "cell_type": "markdown",
      "source": [
        "**Conversación con Gemini:**\n",
        "\n",
        "np puede hacer derivadas?\n",
        "\n",
        "Gemini\n",
        "Sí, NumPy puede hacer derivadas, pero de forma numérica, no simbólica. Esto significa que calcula la derivada en puntos específicos en lugar de encontrar una expresión general para la derivada.\n",
        "\n",
        "Aquí te muestro cómo puedes usar NumPy para calcular la derivada de una función:\n",
        "\n",
        "Pasos:\n",
        "\n",
        "Importar NumPy:\n",
        "\n",
        "import numpy as np\n",
        "Use code with caution\n",
        "Definir la función:\n",
        "\n",
        "def f(x):\n",
        "  return x**2  # Ejemplo: función x^2\n",
        "Use code with caution\n",
        "Crear un array de puntos donde se evaluará la derivada:\n",
        "\n",
        "x = np.linspace(-5, 5, 100)  # 100 puntos entre -5 y 5\n",
        "Use code with caution\n",
        "Calcular la derivada usando np.gradient:\n",
        "\n",
        "derivada = np.gradient(f(x), x)\n",
        "Use code with caution\n",
        "np.gradient calcula la diferencia central de la función f(x) con respecto a x, lo cual es una aproximación de la derivada.\n",
        "\n",
        "Razonamiento:\n",
        "\n",
        "NumPy no tiene funciones para derivación simbólica como las que podrías encontrar en SymPy. Sin embargo, np.gradient ofrece una forma eficiente de calcular la derivada numérica, que es suficiente para muchos propósitos en ciencia de datos y aprendizaje automático.\n",
        "\n",
        "Ejemplo completo:\n",
        "\n",
        "\n",
        "import numpy as np\n",
        "\n",
        "def f(x):\n",
        "  return x**2\n",
        "\n",
        "x = np.linspace(-5, 5, 100)\n",
        "derivada = np.gradient(f(x), x)\n",
        "\n",
        "# Para visualizar la derivada:\n",
        "import matplotlib.pyplot as plt\n",
        "plt.plot(x, derivada)\n",
        "plt.xlabel('x')\n",
        "plt.ylabel('Derivada de f(x)')\n",
        "plt.title('Derivada numérica usando NumPy')\n",
        "plt.grid(True)\n",
        "plt.show()\n",
        "Use code with caution\n",
        "To see the output, run the code.\n",
        "\n",
        "Espero que esto te ayude. Avísame si tienes alguna otra pregunta.\n",
        "\n",
        "Califica esta respuesta\n",
        "\n",
        "Cristian Camilo Osorio Mesa\n",
        "y np contiene la función impulso?\n",
        "\n",
        "Gemini\n",
        "NumPy en sí mismo no tiene una función específica llamada \"impulso\" o \"delta de Dirac\" que represente directamente la función impulso unitario ideal. Sin embargo, puedes representarla y trabajar con ella de manera aproximada usando arrays de NumPy.\n",
        "\n",
        "Aquí te muestro dos enfoques comunes:\n",
        "\n",
        "1. Aproximación con un pulso rectangular:\n",
        "\n",
        "Puedes crear un array que tenga un valor alto en un solo punto (representando el impulso) y cero en el resto.\n",
        "\n",
        "\n",
        "import numpy as np\n",
        "\n",
        "# Duración del impulso (ajusta según tu necesidad)\n",
        "duracion = 10\n",
        "\n",
        "# Crear un array de ceros\n",
        "impulso = np.zeros(duracion)\n",
        "\n",
        "# Establecer el punto central como 1 (o el valor deseado del impulso)\n",
        "impulso[duracion // 2] = 1\n",
        "Use code with caution\n",
        "Razonamiento:\n",
        "\n",
        "Este método representa el impulso como un pulso rectangular estrecho. Mientras más corto sea el pulso, mejor se aproximará a la función delta de Dirac ideal.\n",
        "\n",
        "2. Usando una función gaussiana:\n",
        "\n",
        "Otra opción es usar una función gaussiana con una desviación estándar muy pequeña, que también se aproxima a la forma de un impulso.\n",
        "\n",
        "\n",
        "import numpy as np\n",
        "\n",
        "# Desviación estándar (ajusta para controlar la anchura del impulso)\n",
        "desviacion_estandar = 0.1  \n",
        "\n",
        "# Crear un array de tiempo\n",
        "tiempo = np.linspace(-5, 5, 100)\n",
        "\n",
        "# Calcular la función gaussiana\n",
        "impulso = np.exp(-tiempo**2 / (2 * desviacion_estandar**2))  \n",
        "\n",
        "# Normalizar para que el área bajo la curva sea 1 (opcional)\n",
        "impulso /= np.trapz(impulso, tiempo)\n",
        "Use code with caution\n",
        "Razonamiento:\n",
        "\n",
        "La función gaussiana es continua y suave, lo cual puede ser útil en algunos casos. Ajustando la desviación estándar, puedes controlar la anchura del impulso.\n",
        "\n",
        "Importante:\n",
        "\n",
        "Recuerda que estas son solo aproximaciones. La función delta de Dirac ideal es un concepto matemático con propiedades especiales que no se pueden representar perfectamente con un array numérico.\n",
        "\n",
        "Espero que esto te ayude a trabajar con la función impulso en NumPy.\n",
        "\n",
        "Califica esta respuesta\n",
        "\n",
        "Cristian Camilo Osorio Mesa\n",
        "Podrías ayudarme con este error por favor? ValueError Traceback (most recent call last) in <cell line: 4>() 2 y = np.convolve(x.reshape(-1),h.reshape(-1)) 3 ----> 4 plt.stem(t, y, label='Respuesta del sistema') 5 plt.xlabel('Tiempo (s)') 6 plt.ylabel('Amplitud')\n",
        "\n",
        "6 frames /usr/local/lib/python3.10/dist-packages/numpy/ma/core.py in setitem(self, indx, value) 3385 if _mask is nomask: 3386 # Set the data, then the mask -> 3387 _data[indx] = dval 3388 if mval is not nomask: 3389 _mask = self._mask = make_mask_none(self.shape, _dtype)\n",
        "\n",
        "ValueError: could not broadcast input array from shape (59,) into shape (30,)\n",
        "\n",
        "Gemini\n",
        "El error ValueError: could not broadcast input array from shape (59,) into shape (30,) surge porque estás intentando asignar un array de forma (59,) a un array de forma (30,). Esto suele ocurrir cuando intentas graficar dos arrays de diferentes tamaños con plt.stem u otras funciones de Matplotlib.\n",
        "\n",
        "En tu caso, parece que el resultado de la convolución (y) tiene una longitud de 59, mientras que tu array de tiempo (t) tiene una longitud de 30. Para solucionar este problema, necesitas asegurarte de que ambos arrays tengan la misma longitud.\n",
        "\n",
        "Aquí te muestro cómo puedes solucionarlo:\n",
        "\n",
        "Razonamiento:\n",
        "\n",
        "La convolución de dos señales produce una señal de salida con una longitud mayor que la de las señales de entrada. Por lo tanto, el array y resultante de np.convolve será más largo que t. Necesitas crear un nuevo array de tiempo que sea lo suficientemente largo para contener la señal de salida.\n",
        "\n",
        "Pasos:\n",
        "\n",
        "Calcula la longitud del array de salida:\n",
        "\n",
        "len_y = len(x) + len(h) - 1\n",
        "Use code with caution\n",
        "(La longitud de la convolución es la suma de las longitudes de las entradas menos 1)\n",
        "\n",
        "Crea un nuevo array de tiempo (t_conv) con la longitud correcta:\n",
        "\n",
        "t_conv = np.linspace(t[0], t[-1] + (len_y - len(t)) * (t[1] - t[0]), len_y)\n",
        "Use code with caution\n",
        "Esto crea un array de tiempo que comienza en el mismo punto que t y termina en un punto que se extiende lo suficiente para abarcar la señal de salida de la convolución.\n",
        "\n",
        "Grafica usando el nuevo array de tiempo:\n",
        "\n",
        "plt.stem(t_conv, y, label='Respuesta del sistema')\n",
        "Use code with caution\n",
        "Explicación:\n",
        "\n",
        "El nuevo array de tiempo t_conv se crea usando np.linspace para garantizar que tenga la misma longitud que el array y resultante de la convolución.\n",
        "Se calcula el espaciado entre los puntos de tiempo en el array t original (t[1] - t[0]) y se utiliza para extender el array t_conv a la longitud adecuada.\n",
        "Ejemplo:\n",
        "\n",
        "\n",
        "import numpy as np\n",
        "import matplotlib.pyplot as plt\n",
        "\n",
        "# ... (tu código anterior para definir x, h, t) ...\n",
        "\n",
        "y = np.convolve(x.reshape(-1),h.reshape(-1))\n",
        "len_y = len(x) + len(h) - 1\n",
        "t_conv = np.linspace(t[0], t[-1] + (len_y - len(t)) * (t[1] - t[0]), len_y)\n",
        "\n",
        "plt.stem(t_conv, y, label='Respuesta del sistema')\n",
        "plt.xlabel('Tiempo (s)')\n",
        "plt.ylabel('Amplitud')\n",
        "plt.legend()\n",
        "plt.show()\n",
        "Use code with caution\n",
        "To see the output, run the code.\n",
        "\n",
        "Espero que esto te ayude a resolver el error y a visualizar correctamente la respuesta del sistema.\n",
        "\n",
        "Califica esta respuesta\n",
        "\n",
        "Cristian Camilo Osorio Mesa\n",
        "por qué la convolución me genera un vector más largo?\n",
        "\n",
        "Gemini\n",
        "La convolución produce un vector más largo que los vectores de entrada debido a la forma en que se realiza el proceso matemático. Imagina la convolución como un proceso de \"deslizamiento y multiplicación\" entre las dos señales de entrada.\n",
        "\n",
        "Aquí te explico el razonamiento:\n",
        "\n",
        "Deslizamiento: Una señal (llamada kernel o filtro) se desliza sobre la otra señal (la señal de entrada).\n",
        "Multiplicación: En cada posición del deslizamiento, se multiplican los valores correspondientes de ambas señales.\n",
        "Suma: Se suman los resultados de las multiplicaciones para obtener un único valor de salida para esa posición.\n",
        "La clave está en los puntos de inicio y fin:\n",
        "\n",
        "Inicio: Cuando el kernel comienza a deslizarse sobre la señal de entrada, solo una parte del kernel se superpone con la señal. Esto produce valores de salida iniciales.\n",
        "Medio: A medida que el kernel se desliza más hacia el centro, se superpone completamente con la señal de entrada. Esto produce la mayor parte de los valores de salida.\n",
        "Fin: Cuando el kernel llega al final de la señal de entrada, solo una parte del kernel se superpone. Esto produce valores de salida finales.\n",
        "Como resultado, la señal de salida tiene una longitud que es la suma de las longitudes de las señales de entrada menos 1.\n",
        "\n",
        "Piensa en ello como la combinación de todas las posibles superposiciones entre las dos señales.\n",
        "\n",
        "Ejemplo:\n",
        "\n",
        "Imagina que tienes una señal de entrada de longitud 5 y un kernel de longitud 3.\n",
        "\n",
        "En la primera posición del deslizamiento, solo el primer elemento del kernel se superpone con la señal de entrada.\n",
        "En la segunda posición, los dos primeros elementos del kernel se superponen.\n",
        "Y así sucesivamente, hasta que en la séptima posición, solo el último elemento del kernel se superpone con el último elemento de la señal de entrada.\n",
        "Por lo tanto, la señal de salida tendrá una longitud de 7 (5 + 3 - 1).\n",
        "\n",
        "En resumen:\n",
        "\n",
        "La convolución produce un vector más largo porque tiene en cuenta todas las posibles superposiciones entre las dos señales de entrada, lo que genera valores de salida adicionales al principio y al final. Esto es fundamental para capturar la influencia completa del kernel en la señal de entrada.\n",
        "\n",
        "Espero que esta explicación te ayude a entender por qué la convolución genera un vector más largo.\n",
        "\n",
        "Califica esta respuesta\n",
        "\n",
        "Cristian Camilo Osorio Mesa\n",
        "Entonces aclarame algo, las funciones x yh están definidas sobre t, al hacer la convolución, me sale una función nueva, esta función a que valores de t correspondería?\n",
        "\n",
        "Gemini\n",
        "Buena pregunta. Cuando convolucionas dos funciones x y h que están definidas sobre un rango de tiempo t, la nueva función resultante, y, también está definida sobre un rango de tiempo, pero este rango se modifica debido al proceso de convolución.\n",
        "\n",
        "Explicación:\n",
        "\n",
        "Rango original de t: x(t) y h(t) están definidas para un rango específico de valores de t, por ejemplo, desde t_inicio hasta t_fin.\n",
        "Convolución: La convolución y(t) = x(t) * h(t) implica integrar el producto de x y h para todos los posibles valores de desplazamiento entre ellas.\n",
        "Nuevo rango de tiempo: El nuevo rango de tiempo para y(t) se extiende debido a la \"cola\" que se agrega por la superposición de las señales durante la convolución.\n",
        "En términos más precisos:\n",
        "\n",
        "Si x(t) está definida para t en el rango [t_inicio_x, t_fin_x] y h(t) está definida para t en el rango [t_inicio_h, t_fin_h], entonces y(t) estará definida para t en el rango [t_inicio_x + t_inicio_h, t_fin_x + t_fin_h].\n",
        "Ejemplo simple:\n",
        "\n",
        "Imagina que x(t) y h(t) son pulsos rectangulares de duración 1 segundo, centrados en t=0.\n",
        "\n",
        "x(t) está definida para t en el rango [-0.5, 0.5]\n",
        "h(t) está definida para t en el rango [-0.5, 0.5]\n",
        "La convolución y(t) será un pulso triangular definido para t en el rango [-1, 1] (observa que se ha extendido).\n",
        "En tu caso específico:\n",
        "\n",
        "Si tus funciones x y h están definidas sobre el array de tiempo t, entonces el resultado de la convolución y no estará directamente definido sobre el mismo array t. Necesitas crear un nuevo array de tiempo, t_conv, como se explicó en la respuesta anterior, para representar correctamente el rango de tiempo de la señal de salida y.\n",
        "\n",
        "En resumen:\n",
        "\n",
        "La convolución extiende el rango de tiempo de la señal resultante. Debes ajustar el array de tiempo para que coincida con este nuevo rango y puedas visualizar la señal de salida correctamente.\n",
        "\n",
        "Espero que esta aclaración te sea útil.\n",
        "\n",
        "Califica esta respuesta\n"
      ],
      "metadata": {
        "id": "Oq-Xko-hfR56"
      }
    },
    {
      "cell_type": "code",
      "source": [],
      "metadata": {
        "id": "K_FfCYFHfWps"
      },
      "execution_count": null,
      "outputs": []
    }
  ]
}